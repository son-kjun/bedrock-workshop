{
 "cells": [
  {
   "cell_type": "code",
   "execution_count": null,
   "id": "8de7d9dc",
   "metadata": {},
   "outputs": [],
   "source": []
  },
  {
   "cell_type": "markdown",
   "id": "2bcaaa26",
   "metadata": {},
   "source": [
    "# Data Preprocessing (전처리) "
   ]
  },
  {
   "cell_type": "markdown",
   "id": "e44c0645",
   "metadata": {},
   "source": [
    "### 분석 대상의 csv 파일을 import 하고, 분석작업이 가능하도록 전처리 후 이를 시각화해봅니다."
   ]
  },
  {
   "cell_type": "code",
   "execution_count": null,
   "id": "57e9ac02",
   "metadata": {},
   "outputs": [],
   "source": [
    "# 필요한 필수 라이브러리를 import 합니다\n",
    "import pandas as pd\n",
    "import boto3, sagemaker, json\n",
    "import requests\n",
    "import os "
   ]
  },
  {
   "cell_type": "code",
   "execution_count": null,
   "id": "9c2b0a5d",
   "metadata": {},
   "outputs": [],
   "source": [
    "# 외부에 저장되어있는 united-states-inflation-rate-cpi.csv 파일을 다운로드하여, jupyter notebook으로 가져오는 코드 \n",
    "url = 'https://raw.githubusercontent.com/caracalgit/bedrock-workshop/main/04_Code_Generation/files/united-states-inflation-rate-cpi.csv'\n",
    "\n",
    "response = requests.get(url)\n",
    "\n",
    "with open(os.path.join('.', 'united-states-inflation-rate-cpi.csv'), 'wb') as f:\n",
    "    f.write(response.content)\n",
    "\n",
    "##    'File downloaded successfully! 가 뜨면 정상적으로 파일이 다운로드되어 로컬 경로에 저장된 것입니다. \n",
    "print('File downloaded successfully!') "
   ]
  },
  {
   "cell_type": "markdown",
   "id": "e613e777",
   "metadata": {},
   "source": [
    "### 아래 코드는 여러분이 Bedrock Claude 모델을 활용하여 작성한 코드입니다.\n",
    "### 단축키(shift+enter)를 눌러 한 셀 씩 실행하여, 데이터의 전처리 과정을 확인해보세요."
   ]
  },
  {
   "cell_type": "code",
   "execution_count": null,
   "id": "5891bb50",
   "metadata": {},
   "outputs": [],
   "source": [
    "# 1. jupyter 에서 sed를 활용하여, ./united-states-inflation-rate-cpi.csv 파일의 첫 14 레코드를 지우고 싶어\n",
    "\n",
    "\n",
    "!sed -i '1,14d' ./united-states-inflation-rate-cpi.csv"
   ]
  },
  {
   "cell_type": "code",
   "execution_count": null,
   "id": "f3efd978",
   "metadata": {},
   "outputs": [],
   "source": [
    "# 2.  ./united-states-inflation-rate-cpi.csv파일을 dataframe으로 로드해줘\n",
    "\n",
    "df = pd.read_csv('./united-states-inflation-rate-cpi.csv')"
   ]
  },
  {
   "cell_type": "code",
   "execution_count": null,
   "id": "5aa68a31",
   "metadata": {},
   "outputs": [],
   "source": [
    "# 3. df에 처음 5개 레코드를 보여줘\n",
    "\n",
    "df.head() "
   ]
  },
  {
   "cell_type": "code",
   "execution_count": null,
   "id": "ce0b062e",
   "metadata": {},
   "outputs": [],
   "source": [
    "# 4. NaN 값을 0으로 대체해줘\n",
    "\n",
    "df = df.fillna(0)\n",
    "print(df)"
   ]
  },
  {
   "cell_type": "code",
   "execution_count": null,
   "id": "8e68d0b0",
   "metadata": {},
   "outputs": [],
   "source": [
    "# 5. df의 레코드 첫 행을 열 이름으로 사용해줘\n",
    "\n",
    "df.columns = df.iloc[0]\n",
    "print(df)"
   ]
  },
  {
   "cell_type": "code",
   "execution_count": null,
   "id": "2088be96",
   "metadata": {},
   "outputs": [],
   "source": [
    "# 6. df에서 첫 행은 지워줘\n",
    "\n",
    "df = df.iloc[1:] \n",
    "print(df)"
   ]
  },
  {
   "cell_type": "code",
   "execution_count": null,
   "id": "26b70e9a",
   "metadata": {},
   "outputs": [],
   "source": [
    "# 7. df 데이터에 대해 요약해줘\n",
    "df.describe()"
   ]
  },
  {
   "cell_type": "code",
   "execution_count": null,
   "id": "6b0017ea",
   "metadata": {},
   "outputs": [],
   "source": [
    "# 8. Inflation Rate (%) 열의 type을 numeric으로 설정해줘\n",
    "\n",
    "df[' Inflation Rate (%)'] = pd.to_numeric(df[' Inflation Rate (%)'])\n",
    "df.info()"
   ]
  },
  {
   "cell_type": "code",
   "execution_count": null,
   "id": "a7541805",
   "metadata": {},
   "outputs": [],
   "source": [
    "# 9. df 데이터 기반으로 시간에 따른 변화율을 보여주는 차트를 만들어줘\n",
    "\n",
    "\n",
    "import matplotlib.pyplot as plt\n",
    "\n",
    "plt.plot(df['date'], df[' Inflation Rate (%)'])\n",
    "plt.title('Inflation Rate Over Time')\n",
    "plt.xlabel('date')  \n",
    "plt.ylabel(' Inflation Rate (%)')\n",
    "plt.grid()\n",
    "\n",
    "plt.show()\n"
   ]
  },
  {
   "cell_type": "code",
   "execution_count": null,
   "id": "8dfec3e3",
   "metadata": {},
   "outputs": [],
   "source": [
    "# 10.  Annual Change 열을 numeric으로 설정해줘\n",
    "\n",
    "df[' Annual Change'] = pd.to_numeric(df[' Annual Change'])\n",
    "df.info()"
   ]
  },
  {
   "cell_type": "code",
   "execution_count": null,
   "id": "4096ff7e",
   "metadata": {},
   "outputs": [],
   "source": [
    "# 11. 인플레이션 비율과 연관 변화율을 시간에 따라 보여주는 차트를 show 해줘. 그리고 타이틀도 달아주고, 레이블과 제목도 추가해줘\n",
    "\n",
    "import matplotlib.pyplot as plt\n",
    "\n",
    "plt.plot(df['date'], df[' Inflation Rate (%)'], label='Inflation Rate')\n",
    "plt.plot(df['date'], df[' Annual Change'], label='Annual Change')\n",
    "\n",
    "plt.title('Inflation Rates Over Time')\n",
    "plt.xlabel('date')\n",
    "plt.ylabel('Rate (%)')\n",
    "\n",
    "plt.legend()\n",
    "\n",
    "plt.show()"
   ]
  },
  {
   "cell_type": "code",
   "execution_count": null,
   "id": "1cbc84ae",
   "metadata": {},
   "outputs": [],
   "source": [
    "# 12. 이 df 를 inflation_rate_updated 라는 이름의 csv파일로 저장해줘\n",
    "\n",
    "df.to_csv('inflation_rate_updated.csv', index=False)\n"
   ]
  },
  {
   "cell_type": "code",
   "execution_count": null,
   "id": "3c896f82",
   "metadata": {},
   "outputs": [],
   "source": [
    "# 13. 새로운 csv 파일을 S3 버켓  genai-workshop-studio-s3bucket-tcnf9r0hvm0j 에 복사하는 aws cli를 만들어줘\n",
    "# 아래 cli의 버킷명은 여러분 S3의 버켓명으로 변경하셔야합니다.\n",
    "\n",
    "!aws s3 cp inflation_rate_updated.csv s3://genai-workshop-studio-s3bucket-xxxxxxxxxxxx/inflation_rate_updated.csv"
   ]
  },
  {
   "cell_type": "code",
   "execution_count": null,
   "id": "0c4b0619",
   "metadata": {},
   "outputs": [],
   "source": []
  }
 ],
 "metadata": {
  "kernelspec": {
   "display_name": "conda_python3",
   "language": "python",
   "name": "conda_python3"
  },
  "language_info": {
   "codemirror_mode": {
    "name": "ipython",
    "version": 3
   },
   "file_extension": ".py",
   "mimetype": "text/x-python",
   "name": "python",
   "nbconvert_exporter": "python",
   "pygments_lexer": "ipython3",
   "version": "3.10.14"
  }
 },
 "nbformat": 4,
 "nbformat_minor": 5
}
